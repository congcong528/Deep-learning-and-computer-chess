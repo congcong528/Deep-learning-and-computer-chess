{
 "cells": [
  {
   "cell_type": "code",
   "execution_count": 1,
   "id": "84356b98",
   "metadata": {},
   "outputs": [],
   "source": [
    "import chess\n",
    "import chess.engine\n",
    "import numpy as np\n",
    "import tqdm\n",
    "import pandas as pd\n",
    "from stockfish import Stockfish\n",
    "import tensorflow as tf\n",
    "import keras\n",
    "import chess.pgn\n",
    "import random"
   ]
  },
  {
   "cell_type": "code",
   "execution_count": 17,
   "id": "95ef53b4",
   "metadata": {},
   "outputs": [],
   "source": [
    "'''\n",
    "\tc >= 5, white is winning  ==0\n",
    "\t5 > c >= 3, white has a decisive advantage ==1\n",
    "\t3 > c >= 1, white is better  == 2\n",
    "\t1 > c > -1, the position is equal  ==3\n",
    "\t-1 >= c > -3, black is better  ==4\n",
    "\t-3 > c >= -5, black has a decisive advantage  ==5\n",
    "\t-5 >= c, black is winning  ==6 \n",
    "'''\n",
    "def label(score):\n",
    "    if score >= 5:\n",
    "        return 0\n",
    "    elif 5 > score >= 3:\n",
    "        return 1\n",
    "    elif 3 > score >= 1:\n",
    "        return 2\n",
    "    elif 1 > score > -1:\n",
    "        return 3\n",
    "    elif -1 >= score > -3:\n",
    "        return 4\n",
    "    elif -3 > score >= -5:\n",
    "        return 5\n",
    "    elif -5 >= score:\n",
    "        return 6"
   ]
  },
  {
   "cell_type": "code",
   "execution_count": 83,
   "id": "49830c2a",
   "metadata": {},
   "outputs": [
    {
     "name": "stdout",
     "output_type": "stream",
     "text": [
      "done\n"
     ]
    }
   ],
   "source": [
    "pgn=open(r\"C:\\Users\\congcong\\Desktop\\FYP\\strong-players\\Ljubojevic Ljubomir (YUG) 2070 Games.PGN\")\n",
    "game = chess.pgn.read_game(pgn)\n",
    "fen=[]\n",
    "scores=[]\n",
    "label_score=[]\n",
    "engine = chess.engine.SimpleEngine.popen_uci(r\"C:\\Users\\congcong\\Desktop\\FYP\\stockfish_14_win_x64\\stockfish_14_x64.exe\")\n",
    "\n",
    "while True:\n",
    "    game = chess.pgn.read_game(pgn)\n",
    "    if game is None:\n",
    "        break\n",
    "    board = game.board()\n",
    "    \n",
    "    for move in game.mainline_moves():\n",
    "        board.push(move)\n",
    "        fen.append(board.copy().fen())\n",
    "        info = engine.analyse(board, chess.engine.Limit(depth=10))\n",
    "        \n",
    "        score = info['score'].white().score(mate_score=1000)\n",
    "        score=score/100.0\n",
    "        scores.append(score)\n",
    "        label_score.append(label(score))\n",
    "score_df=pd.DataFrame(scores,columns=['scores'])\n",
    "label_s=pd.DataFrame(label_score,columns=['label_score'])\n",
    "fen_df=pd.DataFrame(fen,columns=['fen'])\n",
    "csv_file=pd.concat([fen_df,score_df, label_s], axis=1)\n",
    "csv_file.to_csv('evl_data.csv', encoding='utf-8', header='true',index = False)\n",
    "print('done')"
   ]
  },
  {
   "cell_type": "code",
   "execution_count": 84,
   "id": "e465b761",
   "metadata": {},
   "outputs": [],
   "source": [
    "\n",
    "df = pd.read_csv('evl_data.csv')"
   ]
  },
  {
   "cell_type": "code",
   "execution_count": 85,
   "id": "4da6ffc2",
   "metadata": {},
   "outputs": [
    {
     "data": {
      "text/html": [
       "<div>\n",
       "<style scoped>\n",
       "    .dataframe tbody tr th:only-of-type {\n",
       "        vertical-align: middle;\n",
       "    }\n",
       "\n",
       "    .dataframe tbody tr th {\n",
       "        vertical-align: top;\n",
       "    }\n",
       "\n",
       "    .dataframe thead th {\n",
       "        text-align: right;\n",
       "    }\n",
       "</style>\n",
       "<table border=\"1\" class=\"dataframe\">\n",
       "  <thead>\n",
       "    <tr style=\"text-align: right;\">\n",
       "      <th></th>\n",
       "      <th>fen</th>\n",
       "      <th>scores</th>\n",
       "      <th>label_score</th>\n",
       "    </tr>\n",
       "  </thead>\n",
       "  <tbody>\n",
       "    <tr>\n",
       "      <th>0</th>\n",
       "      <td>rnbqkbnr/pppppppp/8/8/5P2/8/PPPPP1PP/RNBQKBNR ...</td>\n",
       "      <td>-0.42</td>\n",
       "      <td>3.0</td>\n",
       "    </tr>\n",
       "    <tr>\n",
       "      <th>1</th>\n",
       "      <td>rnbqkbnr/pppp1ppp/8/4p3/5P2/8/PPPPP1PP/RNBQKBN...</td>\n",
       "      <td>0.84</td>\n",
       "      <td>3.0</td>\n",
       "    </tr>\n",
       "    <tr>\n",
       "      <th>2</th>\n",
       "      <td>rnbqkbnr/pppp1ppp/8/4P3/8/8/PPPPP1PP/RNBQKBNR ...</td>\n",
       "      <td>0.22</td>\n",
       "      <td>3.0</td>\n",
       "    </tr>\n",
       "    <tr>\n",
       "      <th>3</th>\n",
       "      <td>rnbqkbnr/ppp2ppp/3p4/4P3/8/8/PPPPP1PP/RNBQKBNR...</td>\n",
       "      <td>0.54</td>\n",
       "      <td>3.0</td>\n",
       "    </tr>\n",
       "    <tr>\n",
       "      <th>4</th>\n",
       "      <td>rnbqkbnr/ppp2ppp/3P4/8/8/8/PPPPP1PP/RNBQKBNR b...</td>\n",
       "      <td>0.32</td>\n",
       "      <td>3.0</td>\n",
       "    </tr>\n",
       "  </tbody>\n",
       "</table>\n",
       "</div>"
      ],
      "text/plain": [
       "                                                 fen  scores  label_score\n",
       "0  rnbqkbnr/pppppppp/8/8/5P2/8/PPPPP1PP/RNBQKBNR ...   -0.42          3.0\n",
       "1  rnbqkbnr/pppp1ppp/8/4p3/5P2/8/PPPPP1PP/RNBQKBN...    0.84          3.0\n",
       "2  rnbqkbnr/pppp1ppp/8/4P3/8/8/PPPPP1PP/RNBQKBNR ...    0.22          3.0\n",
       "3  rnbqkbnr/ppp2ppp/3p4/4P3/8/8/PPPPP1PP/RNBQKBNR...    0.54          3.0\n",
       "4  rnbqkbnr/ppp2ppp/3P4/8/8/8/PPPPP1PP/RNBQKBNR b...    0.32          3.0"
      ]
     },
     "execution_count": 85,
     "metadata": {},
     "output_type": "execute_result"
    }
   ],
   "source": [
    "df.head()"
   ]
  },
  {
   "cell_type": "code",
   "execution_count": 86,
   "id": "5b368de3",
   "metadata": {},
   "outputs": [
    {
     "data": {
      "text/plain": [
       "0         rnbqkbnr/pppppppp/8/8/5P2/8/PPPPP1PP/RNBQKBNR ...\n",
       "1         rnbqkbnr/pppp1ppp/8/4p3/5P2/8/PPPPP1PP/RNBQKBN...\n",
       "2         rnbqkbnr/pppp1ppp/8/4P3/8/8/PPPPP1PP/RNBQKBNR ...\n",
       "3         rnbqkbnr/ppp2ppp/3p4/4P3/8/8/PPPPP1PP/RNBQKBNR...\n",
       "4         rnbqkbnr/ppp2ppp/3P4/8/8/8/PPPPP1PP/RNBQKBNR b...\n",
       "                                ...                        \n",
       "161518      8/8/1b6/4kppp/p1p5/B1P2P1P/1P2K1P1/8 w - - 4 46\n",
       "161519     8/4B3/1b6/4kppp/p1p5/2P2P1P/1P2K1P1/8 b - - 5 46\n",
       "161520    8/4B3/1b6/4kp1p/p1p3p1/2P2P1P/1P2K1P1/8 w - - ...\n",
       "161521     8/8/1b6/4kpBp/p1p3p1/2P2P1P/1P2K1P1/8 b - - 1 47\n",
       "161522       8/8/1b6/4kpBp/p1p5/2P2P1p/1P2K1P1/8 w - - 0 48\n",
       "Name: fen, Length: 161523, dtype: object"
      ]
     },
     "execution_count": 86,
     "metadata": {},
     "output_type": "execute_result"
    }
   ],
   "source": [
    "df2=df[\"fen\"]\n",
    "df2"
   ]
  },
  {
   "cell_type": "code",
   "execution_count": 87,
   "id": "0ca2ad5b",
   "metadata": {},
   "outputs": [
    {
     "data": {
      "text/plain": [
       "0        -0.42\n",
       "1         0.84\n",
       "2         0.22\n",
       "3         0.54\n",
       "4         0.32\n",
       "          ... \n",
       "161518   -0.33\n",
       "161519   -0.37\n",
       "161520   -0.36\n",
       "161521   -0.37\n",
       "161522   -0.58\n",
       "Name: scores, Length: 161523, dtype: float64"
      ]
     },
     "execution_count": 87,
     "metadata": {},
     "output_type": "execute_result"
    }
   ],
   "source": [
    "df3=df[\"scores\"]\n",
    "df3"
   ]
  },
  {
   "cell_type": "code",
   "execution_count": null,
   "id": "487e5fcb",
   "metadata": {},
   "outputs": [],
   "source": []
  }
 ],
 "metadata": {
  "kernelspec": {
   "display_name": "Python 3 (ipykernel)",
   "language": "python",
   "name": "python3"
  },
  "language_info": {
   "codemirror_mode": {
    "name": "ipython",
    "version": 3
   },
   "file_extension": ".py",
   "mimetype": "text/x-python",
   "name": "python",
   "nbconvert_exporter": "python",
   "pygments_lexer": "ipython3",
   "version": "3.8.10"
  }
 },
 "nbformat": 4,
 "nbformat_minor": 5
}
