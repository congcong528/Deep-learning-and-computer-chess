{
 "cells": [
  {
   "cell_type": "code",
   "execution_count": 121,
   "id": "a71b4bfd",
   "metadata": {},
   "outputs": [],
   "source": [
    "import glob\n",
    "from collections import Counter\n",
    "import pandas as pd\n",
    "import numpy as np\n",
    "import scipy.special as sc\n",
    "import keras\n",
    "import tensorflow as tf\n",
    "import chess\n",
    "from sklearn import preprocessing\n",
    "import matplotlib.pyplot as plt\n",
    "from sklearn.model_selection import train_test_split\n",
    "from sklearn import metrics\n",
    "from sklearn.metrics import r2_score, mean_squared_error, mean_absolute_error, median_absolute_error\n",
    "from tensorflow.keras import Sequential\n",
    "from tensorflow.keras.layers import Dense, Dropout,Flatten"
   ]
  },
  {
   "cell_type": "code",
   "execution_count": 2,
   "id": "85762da3",
   "metadata": {},
   "outputs": [],
   "source": [
    "piece_to_index = dict([(piece, i) for i, piece in enumerate('pnbrqkPNBRQK')])"
   ]
  },
  {
   "cell_type": "code",
   "execution_count": 3,
   "id": "4b7a0896",
   "metadata": {},
   "outputs": [],
   "source": [
    "def board_bitmask_to_numpy(mask):\n",
    "    mask = np.array([mask], dtype=np.uint64).view(np.uint8)\n",
    "    return np.unpackbits(mask).reshape((8, 8))"
   ]
  },
  {
   "cell_type": "code",
   "execution_count": 19,
   "id": "ab6f52dd",
   "metadata": {},
   "outputs": [
    {
     "data": {
      "text/html": [
       "<div>\n",
       "<style scoped>\n",
       "    .dataframe tbody tr th:only-of-type {\n",
       "        vertical-align: middle;\n",
       "    }\n",
       "\n",
       "    .dataframe tbody tr th {\n",
       "        vertical-align: top;\n",
       "    }\n",
       "\n",
       "    .dataframe thead th {\n",
       "        text-align: right;\n",
       "    }\n",
       "</style>\n",
       "<table border=\"1\" class=\"dataframe\">\n",
       "  <thead>\n",
       "    <tr style=\"text-align: right;\">\n",
       "      <th></th>\n",
       "      <th>fen</th>\n",
       "      <th>scores</th>\n",
       "      <th>label_score</th>\n",
       "    </tr>\n",
       "  </thead>\n",
       "  <tbody>\n",
       "    <tr>\n",
       "      <th>0</th>\n",
       "      <td>rnbqkbnr/pppppppp/8/8/5P2/8/PPPPP1PP/RNBQKBNR ...</td>\n",
       "      <td>-0.42</td>\n",
       "      <td>3.0</td>\n",
       "    </tr>\n",
       "    <tr>\n",
       "      <th>1</th>\n",
       "      <td>rnbqkbnr/pppp1ppp/8/4p3/5P2/8/PPPPP1PP/RNBQKBN...</td>\n",
       "      <td>0.84</td>\n",
       "      <td>3.0</td>\n",
       "    </tr>\n",
       "    <tr>\n",
       "      <th>2</th>\n",
       "      <td>rnbqkbnr/pppp1ppp/8/4P3/8/8/PPPPP1PP/RNBQKBNR ...</td>\n",
       "      <td>0.22</td>\n",
       "      <td>3.0</td>\n",
       "    </tr>\n",
       "    <tr>\n",
       "      <th>3</th>\n",
       "      <td>rnbqkbnr/ppp2ppp/3p4/4P3/8/8/PPPPP1PP/RNBQKBNR...</td>\n",
       "      <td>0.54</td>\n",
       "      <td>3.0</td>\n",
       "    </tr>\n",
       "    <tr>\n",
       "      <th>4</th>\n",
       "      <td>rnbqkbnr/ppp2ppp/3P4/8/8/8/PPPPP1PP/RNBQKBNR b...</td>\n",
       "      <td>0.32</td>\n",
       "      <td>3.0</td>\n",
       "    </tr>\n",
       "  </tbody>\n",
       "</table>\n",
       "</div>"
      ],
      "text/plain": [
       "                                                 fen  scores  label_score\n",
       "0  rnbqkbnr/pppppppp/8/8/5P2/8/PPPPP1PP/RNBQKBNR ...   -0.42          3.0\n",
       "1  rnbqkbnr/pppp1ppp/8/4p3/5P2/8/PPPPP1PP/RNBQKBN...    0.84          3.0\n",
       "2  rnbqkbnr/pppp1ppp/8/4P3/8/8/PPPPP1PP/RNBQKBNR ...    0.22          3.0\n",
       "3  rnbqkbnr/ppp2ppp/3p4/4P3/8/8/PPPPP1PP/RNBQKBNR...    0.54          3.0\n",
       "4  rnbqkbnr/ppp2ppp/3P4/8/8/8/PPPPP1PP/RNBQKBNR b...    0.32          3.0"
      ]
     },
     "execution_count": 19,
     "metadata": {},
     "output_type": "execute_result"
    }
   ],
   "source": [
    "df = pd.read_csv('evl_data.csv')\n",
    "df.head()"
   ]
  },
  {
   "cell_type": "code",
   "execution_count": 8,
   "id": "5fc8b5a6",
   "metadata": {},
   "outputs": [
    {
     "data": {
      "image/png": "[encoded data removed]",
      "text/plain": [
       "<Figure size 432x288 with 1 Axes>"
      ]
     },
     "metadata": {
      "needs_background": "light"
     },
     "output_type": "display_data"
    }
   ],
   "source": [
    "features = df.iloc[:,:-1]\n",
    "response = df.iloc[:,-1].astype(float)\n",
    "\n",
    "response.plot(kind='hist', bins=100)\n",
    "plt.show()"
   ]
  },
  {
   "cell_type": "code",
   "execution_count": 16,
   "id": "8c2d6725",
   "metadata": {},
   "outputs": [],
   "source": [
    "class BasicRepresentation:\n",
    "    \"\"\"\n",
    "    * requires (12, 8, 8) input size\n",
    "    12 panes, one per type of piece\n",
    "    2 more panes showing squares attacked by that side\n",
    "    \"\"\"\n",
    "    def get_input_size(self):\n",
    "        return (12, 8, 8)\n",
    "    \n",
    "    def from_fen(self, fen):\n",
    "        result = np.zeros((12, 8, 8), dtype=np.int8)\n",
    "\n",
    "        board = chess.Board(fen)\n",
    "\n",
    "        is_flipped = False\n",
    "        if board.turn == chess.BLACK:\n",
    "            is_flipped = True\n",
    "            board = board.mirror()\n",
    "\n",
    "        for piece in range(1, 7): # chess numbers pieces from 1 to 6\n",
    "            mask = board.pieces_mask(piece, chess.WHITE)\n",
    "            result[piece-1, :, :] = board_bitmask_to_numpy(mask)[::-1, ::-1]\n",
    "            mask = board.pieces_mask(piece, chess.BLACK)\n",
    "            result[piece+5, :, :] = board_bitmask_to_numpy(mask)[::-1, ::-1]\n",
    "        \n",
    "        return result, is_flipped"
   ]
  },
  {
   "cell_type": "code",
   "execution_count": 17,
   "id": "f5803490",
   "metadata": {},
   "outputs": [],
   "source": [
    "class BasicRepresentationWithAttacked:\n",
    "    \"\"\"\n",
    "    * requires (14, 8, 8) input size\n",
    "    12 panes, one per type of piece\n",
    "    2 more panes showing squares attacked by that side\n",
    "    \"\"\"\n",
    "    def get_input_size(self):\n",
    "        return (14, 8, 8)\n",
    "    \n",
    "    def from_fen(self, fen):\n",
    "        result = np.zeros((14, 8, 8), dtype=np.int8)\n",
    "\n",
    "        board = chess.Board(fen)\n",
    "\n",
    "        is_flipped = False\n",
    "        if board.turn == chess.BLACK:\n",
    "            is_flipped = True\n",
    "            board = board.mirror()\n",
    "\n",
    "        for piece in range(1, 7): # chess numbers pieces from 1 to 6\n",
    "            mask = board.pieces_mask(piece, chess.WHITE)\n",
    "            result[piece-1, :, :] = board_bitmask_to_numpy(mask)[::-1, ::-1]\n",
    "            mask = board.pieces_mask(piece, chess.BLACK)\n",
    "            result[piece+5, :, :] = board_bitmask_to_numpy(mask)[::-1, ::-1]\n",
    "\n",
    "        for i in range(8):\n",
    "            for j in range(8):\n",
    "                square = (7 - i) + j * 8\n",
    "                result[12, j, i] = board.attackers_mask(chess.WHITE, square) > 0\n",
    "                result[13, j, i] = board.attackers_mask(chess.BLACK, square) > 0\n",
    "        \n",
    "        return result, is_flipped\n",
    "\n",
    "    \n",
    "class CompactRepresentation:\n",
    "    \"\"\"\n",
    "    * requires (6, 8, 8) input size\n",
    "    7 panes, one per type of piece, +1 -> white, -1 -> black\n",
    "    \"\"\"\n",
    "    def get_input_size(self):\n",
    "        return (6, 8, 8)\n",
    "    \n",
    "    def from_fen(self, fen):\n",
    "        result = np.zeros((6, 8, 8), dtype=np.int8)\n",
    "\n",
    "        board = chess.Board(fen)\n",
    "\n",
    "        is_flipped = False\n",
    "        if board.turn == chess.BLACK:\n",
    "            is_flipped = True\n",
    "            board = board.mirror()\n",
    "\n",
    "        for piece in range(1, 7): # chess numbers pieces from 1 to 6\n",
    "            mask = board.pieces_mask(piece, chess.WHITE)\n",
    "            result[piece-1, :, :] = board_bitmask_to_numpy(mask)[::-1, ::-1]\n",
    "            mask = board.pieces_mask(piece, chess.BLACK)\n",
    "            result[piece+5, :, :] = board_bitmask_to_numpy(mask)[::-1, ::-1]\n",
    "        \n",
    "        return result, is_flipped\n"
   ]
  },
  {
   "cell_type": "code",
   "execution_count": 285,
   "id": "a116e6d8",
   "metadata": {},
   "outputs": [],
   "source": [
    "class HalfKP:\n",
    "    \"\"\"\n",
    "    * requires (10, 8, 8, 8, 8) input size\n",
    "    10 panes, one per type of piece\n",
    "    TODO: requires sparse inputs, a list of classes\n",
    "    \"\"\"\n",
    "    def get_input_size(self):\n",
    "        return (6, 8, 8)\n",
    "\n",
    "    def from_fen(fen):\n",
    "        pass\n",
    "\n",
    "def create_simple_dense_model(representation):\n",
    "    input_ = tf.keras.Input(shape=representation.get_input_size(), dtype='int8')\n",
    "    flat = tf.keras.layers.Flatten()(input_)\n",
    "    hidden1 = tf.keras.layers.Dense(1024, activation='elu',\n",
    "                                    #kernel_regularizer=tf.keras.regularizers.L2(1e-9)\n",
    "                                    )(flat)\n",
    "    dropout1 = tf.keras.layers.Dropout(0.1)(hidden1)\n",
    "    hidden2 = tf.keras.layers.Dense(512, activation='elu',\n",
    "                                    #kernel_regularizer=tf.keras.regularizers.L2(1e-9)\n",
    "                                    )(dropout1)\n",
    "    hidden3 = tf.keras.layers.Dense(128, activation='elu',\n",
    "                                    #kernel_regularizer=tf.keras.regularizers.L2(1e-9)\n",
    "                                    )(hidden2)\n",
    "\n",
    "    outputs = tf.keras.layers.Dense(1, activation='sigmoid')(hidden3)\n",
    "    model = tf.keras.Model(inputs=input_, outputs=outputs)\n",
    "    loss = nn.CrossEntropyLoss()\n",
    "    model.compile(optimizer=\"Adam\",loss='mae')\n",
    "    model.summary()\n",
    "    return model\n",
    "\n",
    "\n",
    "def create_conv_model(representation):\n",
    "    input_ = tf.keras.Input(shape=representation.get_input_size(), dtype='float32')\n",
    "\n",
    "    # permutation solves the problem of having the tensor we want to permute last\n",
    "    # TODO: solve this problem in the representations.\n",
    "    perm = tf.keras.layers.Permute((2, 3, 1))(input_)\n",
    "    conv1 =  tf.keras.layers.Conv1D(filters = 16, kernel_size=(14), padding='same', activation='relu',\n",
    "                             input_shape=(1, 8,8))(perm)\n",
    "    # pooling =  tf.keras.layers.MaxPooling1D()(conv1)\n",
    "    \n",
    "    flat = tf.keras.layers.Flatten()(conv1)\n",
    "    hidden1 = tf.keras.layers.Dense(1024, activation='elu',\n",
    "                                    #kernel_regularizer=tf.keras.regularizers.L2(1e-9)\n",
    "                                    )(flat)\n",
    "    dropout1 = tf.keras.layers.Dropout(0.1)(hidden1)\n",
    "    hidden2 = tf.keras.layers.Dense(512, activation='elu',\n",
    "                                    #kernel_regularizer=tf.keras.regularizers.L2(1e-9)\n",
    "                                    )(dropout1)\n",
    "    hidden3 = tf.keras.layers.Dense(128, activation='elu',\n",
    "                                    #kernel_regularizer=tf.keras.regularizers.L2(1e-9)\n",
    "                                    )(hidden2)\n",
    "\n",
    "    outputs = tf.keras.layers.Dense(7, activation='sigmoid')(hidden3)\n",
    "    model = tf.keras.Model(inputs=input_, outputs=outputs)\n",
    "    model.compile(optimizer='adam',\n",
    "                 loss='sparse_categorical_crossentropy',\n",
    "                 metrics=['accuracy'])\n",
    "    model.summary()\n",
    "    return model"
   ]
  },
  {
   "cell_type": "code",
   "execution_count": 286,
   "id": "180f3e89",
   "metadata": {},
   "outputs": [],
   "source": [
    "from keras.utils.np_utils import to_categorical"
   ]
  },
  {
   "cell_type": "code",
   "execution_count": 291,
   "id": "094f1647",
   "metadata": {},
   "outputs": [],
   "source": [
    "#To do scaling the input \n",
    "def load_data(filename, representation):\n",
    "    df = pd.read_csv(filename)\n",
    "\n",
    "    sample = []\n",
    "    ys = []\n",
    "    for i, (fen, scores,label_score ) in df.iterrows():\n",
    "        #if total <= 2:\n",
    "        #    continue\n",
    "        if i >= 2000:\n",
    "            break\n",
    "\n",
    "        input_layer, is_flipped = representation.from_fen(fen)\n",
    "        sample.append(input_layer)\n",
    "\n",
    "        ys.append([label_score])\n",
    "        \n",
    "            \n",
    "    sample = np.array(sample, dtype=np.int8)\n",
    "    ys = np.array(ys)\n",
    "            \n",
    "    return sample, ys"
   ]
  },
  {
   "cell_type": "code",
   "execution_count": 292,
   "id": "7966a379",
   "metadata": {},
   "outputs": [
    {
     "name": "stdout",
     "output_type": "stream",
     "text": [
      "Model: \"model_40\"\n",
      "_________________________________________________________________\n",
      " Layer (type)                Output Shape              Param #   \n",
      "=================================================================\n",
      " input_44 (InputLayer)       [(None, 14, 8, 8)]        0         \n",
      "                                                                 \n",
      " permute_42 (Permute)        (None, 8, 8, 14)          0         \n",
      "                                                                 \n",
      " conv1d_42 (Conv1D)          (None, 8, 8, 16)          3152      \n",
      "                                                                 \n",
      " flatten_40 (Flatten)        (None, 1024)              0         \n",
      "                                                                 \n",
      " dense_182 (Dense)           (None, 1024)              1049600   \n",
      "                                                                 \n",
      " dropout_43 (Dropout)        (None, 1024)              0         \n",
      "                                                                 \n",
      " dense_183 (Dense)           (None, 512)               524800    \n",
      "                                                                 \n",
      " dense_184 (Dense)           (None, 128)               65664     \n",
      "                                                                 \n",
      " dense_185 (Dense)           (None, 7)                 903       \n",
      "                                                                 \n",
      "=================================================================\n",
      "Total params: 1,644,119\n",
      "Trainable params: 1,644,119\n",
      "Non-trainable params: 0\n",
      "_________________________________________________________________\n",
      "(2000, 14, 8, 8) (2000, 1)\n"
     ]
    }
   ],
   "source": [
    "if __name__ == '__main__':\n",
    "    representation = BasicRepresentationWithAttacked()\n",
    "    # model = create_simple_dense_model(representation)\n",
    "    model = create_conv_model(representation)\n",
    "    sample, ys = load_data('evl_data.csv', representation)\n",
    "\n",
    "    print(sample.shape, ys.shape)\n"
   ]
  },
  {
   "cell_type": "code",
   "execution_count": 293,
   "id": "500bcefd",
   "metadata": {},
   "outputs": [],
   "source": [
    "X_train, X_test, y_train, y_test = train_test_split(sample, ys, test_size=0.3)\n"
   ]
  },
  {
   "cell_type": "code",
   "execution_count": 294,
   "id": "f0a660ac",
   "metadata": {},
   "outputs": [
    {
     "name": "stdout",
     "output_type": "stream",
     "text": [
      "Epoch 1/20\n"
     ]
    },
    {
     "ename": "InvalidArgumentError",
     "evalue": "Graph execution error:\n\nDetected at node 'sparse_categorical_crossentropy/SparseSoftmaxCrossEntropyWithLogits/SparseSoftmaxCrossEntropyWithLogits' defined at (most recent call last):\n    File \"c:\\users\\congcong\\appdata\\local\\programs\\python\\python38\\lib\\runpy.py\", line 194, in _run_module_as_main\n      return _run_code(code, main_globals, None,\n    File \"c:\\users\\congcong\\appdata\\local\\programs\\python\\python38\\lib\\runpy.py\", line 87, in _run_code\n      exec(code, run_globals)\n    File \"c:\\users\\congcong\\appdata\\local\\programs\\python\\python38\\lib\\site-packages\\ipykernel_launcher.py\", line 16, in <module>\n      app.launch_new_instance()\n    File \"c:\\users\\congcong\\appdata\\local\\programs\\python\\python38\\lib\\site-packages\\traitlets\\config\\application.py\", line 846, in launch_instance\n      app.start()\n    File \"c:\\users\\congcong\\appdata\\local\\programs\\python\\python38\\lib\\site-packages\\ipykernel\\kernelapp.py\", line 677, in start\n      self.io_loop.start()\n    File \"c:\\users\\congcong\\appdata\\local\\programs\\python\\python38\\lib\\site-packages\\tornado\\platform\\asyncio.py\", line 199, in start\n      self.asyncio_loop.run_forever()\n    File \"c:\\users\\congcong\\appdata\\local\\programs\\python\\python38\\lib\\asyncio\\base_events.py\", line 570, in run_forever\n      self._run_once()\n    File \"c:\\users\\congcong\\appdata\\local\\programs\\python\\python38\\lib\\asyncio\\base_events.py\", line 1859, in _run_once\n      handle._run()\n    File \"c:\\users\\congcong\\appdata\\local\\programs\\python\\python38\\lib\\asyncio\\events.py\", line 81, in _run\n      self._context.run(self._callback, *self._args)\n    File \"c:\\users\\congcong\\appdata\\local\\programs\\python\\python38\\lib\\site-packages\\ipykernel\\kernelbase.py\", line 461, in dispatch_queue\n      await self.process_one()\n    File \"c:\\users\\congcong\\appdata\\local\\programs\\python\\python38\\lib\\site-packages\\ipykernel\\kernelbase.py\", line 450, in process_one\n      await dispatch(*args)\n    File \"c:\\users\\congcong\\appdata\\local\\programs\\python\\python38\\lib\\site-packages\\ipykernel\\kernelbase.py\", line 357, in dispatch_shell\n      await result\n    File \"c:\\users\\congcong\\appdata\\local\\programs\\python\\python38\\lib\\site-packages\\ipykernel\\kernelbase.py\", line 652, in execute_request\n      reply_content = await reply_content\n    File \"c:\\users\\congcong\\appdata\\local\\programs\\python\\python38\\lib\\site-packages\\ipykernel\\ipkernel.py\", line 359, in do_execute\n      res = shell.run_cell(code, store_history=store_history, silent=silent)\n    File \"c:\\users\\congcong\\appdata\\local\\programs\\python\\python38\\lib\\site-packages\\ipykernel\\zmqshell.py\", line 532, in run_cell\n      return super().run_cell(*args, **kwargs)\n    File \"c:\\users\\congcong\\appdata\\local\\programs\\python\\python38\\lib\\site-packages\\IPython\\core\\interactiveshell.py\", line 2768, in run_cell\n      result = self._run_cell(\n    File \"c:\\users\\congcong\\appdata\\local\\programs\\python\\python38\\lib\\site-packages\\IPython\\core\\interactiveshell.py\", line 2814, in _run_cell\n      return runner(coro)\n    File \"c:\\users\\congcong\\appdata\\local\\programs\\python\\python38\\lib\\site-packages\\IPython\\core\\async_helpers.py\", line 129, in _pseudo_sync_runner\n      coro.send(None)\n    File \"c:\\users\\congcong\\appdata\\local\\programs\\python\\python38\\lib\\site-packages\\IPython\\core\\interactiveshell.py\", line 3012, in run_cell_async\n      has_raised = await self.run_ast_nodes(code_ast.body, cell_name,\n    File \"c:\\users\\congcong\\appdata\\local\\programs\\python\\python38\\lib\\site-packages\\IPython\\core\\interactiveshell.py\", line 3191, in run_ast_nodes\n      if await self.run_code(code, result, async_=asy):\n    File \"c:\\users\\congcong\\appdata\\local\\programs\\python\\python38\\lib\\site-packages\\IPython\\core\\interactiveshell.py\", line 3251, in run_code\n      exec(code_obj, self.user_global_ns, self.user_ns)\n    File \"C:\\Users\\congcong\\AppData\\Local\\Temp\\ipykernel_16068\\392288628.py\", line 8, in <module>\n      history = model.fit(X_train, y_train,\n    File \"c:\\users\\congcong\\appdata\\local\\programs\\python\\python38\\lib\\site-packages\\keras\\utils\\traceback_utils.py\", line 64, in error_handler\n      return fn(*args, **kwargs)\n    File \"c:\\users\\congcong\\appdata\\local\\programs\\python\\python38\\lib\\site-packages\\keras\\engine\\training.py\", line 1384, in fit\n      tmp_logs = self.train_function(iterator)\n    File \"c:\\users\\congcong\\appdata\\local\\programs\\python\\python38\\lib\\site-packages\\keras\\engine\\training.py\", line 1021, in train_function\n      return step_function(self, iterator)\n    File \"c:\\users\\congcong\\appdata\\local\\programs\\python\\python38\\lib\\site-packages\\keras\\engine\\training.py\", line 1010, in step_function\n      outputs = model.distribute_strategy.run(run_step, args=(data,))\n    File \"c:\\users\\congcong\\appdata\\local\\programs\\python\\python38\\lib\\site-packages\\keras\\engine\\training.py\", line 1000, in run_step\n      outputs = model.train_step(data)\n    File \"c:\\users\\congcong\\appdata\\local\\programs\\python\\python38\\lib\\site-packages\\keras\\engine\\training.py\", line 860, in train_step\n      loss = self.compute_loss(x, y, y_pred, sample_weight)\n    File \"c:\\users\\congcong\\appdata\\local\\programs\\python\\python38\\lib\\site-packages\\keras\\engine\\training.py\", line 918, in compute_loss\n      return self.compiled_loss(\n    File \"c:\\users\\congcong\\appdata\\local\\programs\\python\\python38\\lib\\site-packages\\keras\\engine\\compile_utils.py\", line 201, in __call__\n      loss_value = loss_obj(y_t, y_p, sample_weight=sw)\n    File \"c:\\users\\congcong\\appdata\\local\\programs\\python\\python38\\lib\\site-packages\\keras\\losses.py\", line 141, in __call__\n      losses = call_fn(y_true, y_pred)\n    File \"c:\\users\\congcong\\appdata\\local\\programs\\python\\python38\\lib\\site-packages\\keras\\losses.py\", line 245, in call\n      return ag_fn(y_true, y_pred, **self._fn_kwargs)\n    File \"c:\\users\\congcong\\appdata\\local\\programs\\python\\python38\\lib\\site-packages\\keras\\losses.py\", line 1862, in sparse_categorical_crossentropy\n      return backend.sparse_categorical_crossentropy(\n    File \"c:\\users\\congcong\\appdata\\local\\programs\\python\\python38\\lib\\site-packages\\keras\\backend.py\", line 5202, in sparse_categorical_crossentropy\n      res = tf.nn.sparse_softmax_cross_entropy_with_logits(\nNode: 'sparse_categorical_crossentropy/SparseSoftmaxCrossEntropyWithLogits/SparseSoftmaxCrossEntropyWithLogits'\nReceived a label value of -5 which is outside the valid range of [0, 7).  Label values: -5 -3 4 -3 5 -5 -2 2 0 3 5 4 1 -3 3 -4 -2 -2 3 -3 3 4 0 3 3 2 6 -2 -2 -1 2 3\n\t [[{{node sparse_categorical_crossentropy/SparseSoftmaxCrossEntropyWithLogits/SparseSoftmaxCrossEntropyWithLogits}}]] [Op:__inference_train_function_348894]",
     "output_type": "error",
     "traceback": [
      "\u001b[1;31m---------------------------------------------------------------------------\u001b[0m",
      "\u001b[1;31mInvalidArgumentError\u001b[0m                      Traceback (most recent call last)",
      "Input \u001b[1;32mIn [294]\u001b[0m, in \u001b[0;36m<module>\u001b[1;34m\u001b[0m\n\u001b[0;32m      1\u001b[0m save_callback \u001b[38;5;241m=\u001b[39m tf\u001b[38;5;241m.\u001b[39mkeras\u001b[38;5;241m.\u001b[39mcallbacks\u001b[38;5;241m.\u001b[39mModelCheckpoint(\n\u001b[0;32m      2\u001b[0m     filepath\u001b[38;5;241m=\u001b[39m\u001b[38;5;124m\"\u001b[39m\u001b[38;5;124mC:/Users/congcong/Desktop/FYP/model/chess-score-\u001b[39m\u001b[38;5;132;01m{epoch:04d}\u001b[39;00m\u001b[38;5;124m-\u001b[39m\u001b[38;5;132;01m{val_loss:.4f}\u001b[39;00m\u001b[38;5;124m.h5\u001b[39m\u001b[38;5;124m\"\u001b[39m,\n\u001b[0;32m      3\u001b[0m     save_weights_only\u001b[38;5;241m=\u001b[39m\u001b[38;5;28;01mFalse\u001b[39;00m,\n\u001b[0;32m      4\u001b[0m     save_best_only\u001b[38;5;241m=\u001b[39m\u001b[38;5;28;01mTrue\u001b[39;00m,\n\u001b[0;32m      5\u001b[0m     verbose\u001b[38;5;241m=\u001b[39m\u001b[38;5;241m1\u001b[39m)\n\u001b[0;32m      7\u001b[0m \u001b[38;5;66;03m# Train the model with the new callback\u001b[39;00m\n\u001b[1;32m----> 8\u001b[0m history \u001b[38;5;241m=\u001b[39m \u001b[43mmodel\u001b[49m\u001b[38;5;241;43m.\u001b[39;49m\u001b[43mfit\u001b[49m\u001b[43m(\u001b[49m\u001b[43mX_train\u001b[49m\u001b[43m,\u001b[49m\u001b[43m \u001b[49m\u001b[43my_train\u001b[49m\u001b[43m,\u001b[49m\n\u001b[0;32m      9\u001b[0m \u001b[43m                    \u001b[49m\u001b[43mvalidation_data\u001b[49m\u001b[43m \u001b[49m\u001b[38;5;241;43m=\u001b[39;49m\u001b[43m \u001b[49m\u001b[43m(\u001b[49m\u001b[43mX_test\u001b[49m\u001b[43m,\u001b[49m\u001b[43m \u001b[49m\u001b[43my_test\u001b[49m\u001b[43m)\u001b[49m\u001b[43m,\u001b[49m\n\u001b[0;32m     10\u001b[0m \u001b[43m                    \u001b[49m\u001b[43mbatch_size\u001b[49m\u001b[38;5;241;43m=\u001b[39;49m\u001b[38;5;241;43m32\u001b[39;49m\u001b[43m,\u001b[49m\n\u001b[0;32m     11\u001b[0m \u001b[43m                    \u001b[49m\u001b[43mepochs\u001b[49m\u001b[38;5;241;43m=\u001b[39;49m\u001b[38;5;241;43m20\u001b[39;49m\u001b[43m,\u001b[49m\n\u001b[0;32m     12\u001b[0m \u001b[43m                    \u001b[49m\u001b[43mcallbacks\u001b[49m\u001b[38;5;241;43m=\u001b[39;49m\u001b[43m[\u001b[49m\u001b[43msave_callback\u001b[49m\u001b[43m]\u001b[49m\u001b[43m)\u001b[49m\n",
      "File \u001b[1;32mc:\\users\\congcong\\appdata\\local\\programs\\python\\python38\\lib\\site-packages\\keras\\utils\\traceback_utils.py:67\u001b[0m, in \u001b[0;36mfilter_traceback.<locals>.error_handler\u001b[1;34m(*args, **kwargs)\u001b[0m\n\u001b[0;32m     65\u001b[0m \u001b[38;5;28;01mexcept\u001b[39;00m \u001b[38;5;167;01mException\u001b[39;00m \u001b[38;5;28;01mas\u001b[39;00m e:  \u001b[38;5;66;03m# pylint: disable=broad-except\u001b[39;00m\n\u001b[0;32m     66\u001b[0m   filtered_tb \u001b[38;5;241m=\u001b[39m _process_traceback_frames(e\u001b[38;5;241m.\u001b[39m__traceback__)\n\u001b[1;32m---> 67\u001b[0m   \u001b[38;5;28;01mraise\u001b[39;00m e\u001b[38;5;241m.\u001b[39mwith_traceback(filtered_tb) \u001b[38;5;28;01mfrom\u001b[39;00m \u001b[38;5;28mNone\u001b[39m\n\u001b[0;32m     68\u001b[0m \u001b[38;5;28;01mfinally\u001b[39;00m:\n\u001b[0;32m     69\u001b[0m   \u001b[38;5;28;01mdel\u001b[39;00m filtered_tb\n",
      "File \u001b[1;32mc:\\users\\congcong\\appdata\\local\\programs\\python\\python38\\lib\\site-packages\\tensorflow\\python\\eager\\execute.py:54\u001b[0m, in \u001b[0;36mquick_execute\u001b[1;34m(op_name, num_outputs, inputs, attrs, ctx, name)\u001b[0m\n\u001b[0;32m     52\u001b[0m \u001b[38;5;28;01mtry\u001b[39;00m:\n\u001b[0;32m     53\u001b[0m   ctx\u001b[38;5;241m.\u001b[39mensure_initialized()\n\u001b[1;32m---> 54\u001b[0m   tensors \u001b[38;5;241m=\u001b[39m pywrap_tfe\u001b[38;5;241m.\u001b[39mTFE_Py_Execute(ctx\u001b[38;5;241m.\u001b[39m_handle, device_name, op_name,\n\u001b[0;32m     55\u001b[0m                                       inputs, attrs, num_outputs)\n\u001b[0;32m     56\u001b[0m \u001b[38;5;28;01mexcept\u001b[39;00m core\u001b[38;5;241m.\u001b[39m_NotOkStatusException \u001b[38;5;28;01mas\u001b[39;00m e:\n\u001b[0;32m     57\u001b[0m   \u001b[38;5;28;01mif\u001b[39;00m name \u001b[38;5;129;01mis\u001b[39;00m \u001b[38;5;129;01mnot\u001b[39;00m \u001b[38;5;28;01mNone\u001b[39;00m:\n",
      "\u001b[1;31mInvalidArgumentError\u001b[0m: Graph execution error:\n\nDetected at node 'sparse_categorical_crossentropy/SparseSoftmaxCrossEntropyWithLogits/SparseSoftmaxCrossEntropyWithLogits' defined at (most recent call last):\n    File \"c:\\users\\congcong\\appdata\\local\\programs\\python\\python38\\lib\\runpy.py\", line 194, in _run_module_as_main\n      return _run_code(code, main_globals, None,\n    File \"c:\\users\\congcong\\appdata\\local\\programs\\python\\python38\\lib\\runpy.py\", line 87, in _run_code\n      exec(code, run_globals)\n    File \"c:\\users\\congcong\\appdata\\local\\programs\\python\\python38\\lib\\site-packages\\ipykernel_launcher.py\", line 16, in <module>\n      app.launch_new_instance()\n    File \"c:\\users\\congcong\\appdata\\local\\programs\\python\\python38\\lib\\site-packages\\traitlets\\config\\application.py\", line 846, in launch_instance\n      app.start()\n    File \"c:\\users\\congcong\\appdata\\local\\programs\\python\\python38\\lib\\site-packages\\ipykernel\\kernelapp.py\", line 677, in start\n      self.io_loop.start()\n    File \"c:\\users\\congcong\\appdata\\local\\programs\\python\\python38\\lib\\site-packages\\tornado\\platform\\asyncio.py\", line 199, in start\n      self.asyncio_loop.run_forever()\n    File \"c:\\users\\congcong\\appdata\\local\\programs\\python\\python38\\lib\\asyncio\\base_events.py\", line 570, in run_forever\n      self._run_once()\n    File \"c:\\users\\congcong\\appdata\\local\\programs\\python\\python38\\lib\\asyncio\\base_events.py\", line 1859, in _run_once\n      handle._run()\n    File \"c:\\users\\congcong\\appdata\\local\\programs\\python\\python38\\lib\\asyncio\\events.py\", line 81, in _run\n      self._context.run(self._callback, *self._args)\n    File \"c:\\users\\congcong\\appdata\\local\\programs\\python\\python38\\lib\\site-packages\\ipykernel\\kernelbase.py\", line 461, in dispatch_queue\n      await self.process_one()\n    File \"c:\\users\\congcong\\appdata\\local\\programs\\python\\python38\\lib\\site-packages\\ipykernel\\kernelbase.py\", line 450, in process_one\n      await dispatch(*args)\n    File \"c:\\users\\congcong\\appdata\\local\\programs\\python\\python38\\lib\\site-packages\\ipykernel\\kernelbase.py\", line 357, in dispatch_shell\n      await result\n    File \"c:\\users\\congcong\\appdata\\local\\programs\\python\\python38\\lib\\site-packages\\ipykernel\\kernelbase.py\", line 652, in execute_request\n      reply_content = await reply_content\n    File \"c:\\users\\congcong\\appdata\\local\\programs\\python\\python38\\lib\\site-packages\\ipykernel\\ipkernel.py\", line 359, in do_execute\n      res = shell.run_cell(code, store_history=store_history, silent=silent)\n    File \"c:\\users\\congcong\\appdata\\local\\programs\\python\\python38\\lib\\site-packages\\ipykernel\\zmqshell.py\", line 532, in run_cell\n      return super().run_cell(*args, **kwargs)\n    File \"c:\\users\\congcong\\appdata\\local\\programs\\python\\python38\\lib\\site-packages\\IPython\\core\\interactiveshell.py\", line 2768, in run_cell\n      result = self._run_cell(\n    File \"c:\\users\\congcong\\appdata\\local\\programs\\python\\python38\\lib\\site-packages\\IPython\\core\\interactiveshell.py\", line 2814, in _run_cell\n      return runner(coro)\n    File \"c:\\users\\congcong\\appdata\\local\\programs\\python\\python38\\lib\\site-packages\\IPython\\core\\async_helpers.py\", line 129, in _pseudo_sync_runner\n      coro.send(None)\n    File \"c:\\users\\congcong\\appdata\\local\\programs\\python\\python38\\lib\\site-packages\\IPython\\core\\interactiveshell.py\", line 3012, in run_cell_async\n      has_raised = await self.run_ast_nodes(code_ast.body, cell_name,\n    File \"c:\\users\\congcong\\appdata\\local\\programs\\python\\python38\\lib\\site-packages\\IPython\\core\\interactiveshell.py\", line 3191, in run_ast_nodes\n      if await self.run_code(code, result, async_=asy):\n    File \"c:\\users\\congcong\\appdata\\local\\programs\\python\\python38\\lib\\site-packages\\IPython\\core\\interactiveshell.py\", line 3251, in run_code\n      exec(code_obj, self.user_global_ns, self.user_ns)\n    File \"C:\\Users\\congcong\\AppData\\Local\\Temp\\ipykernel_16068\\392288628.py\", line 8, in <module>\n      history = model.fit(X_train, y_train,\n    File \"c:\\users\\congcong\\appdata\\local\\programs\\python\\python38\\lib\\site-packages\\keras\\utils\\traceback_utils.py\", line 64, in error_handler\n      return fn(*args, **kwargs)\n    File \"c:\\users\\congcong\\appdata\\local\\programs\\python\\python38\\lib\\site-packages\\keras\\engine\\training.py\", line 1384, in fit\n      tmp_logs = self.train_function(iterator)\n    File \"c:\\users\\congcong\\appdata\\local\\programs\\python\\python38\\lib\\site-packages\\keras\\engine\\training.py\", line 1021, in train_function\n      return step_function(self, iterator)\n    File \"c:\\users\\congcong\\appdata\\local\\programs\\python\\python38\\lib\\site-packages\\keras\\engine\\training.py\", line 1010, in step_function\n      outputs = model.distribute_strategy.run(run_step, args=(data,))\n    File \"c:\\users\\congcong\\appdata\\local\\programs\\python\\python38\\lib\\site-packages\\keras\\engine\\training.py\", line 1000, in run_step\n      outputs = model.train_step(data)\n    File \"c:\\users\\congcong\\appdata\\local\\programs\\python\\python38\\lib\\site-packages\\keras\\engine\\training.py\", line 860, in train_step\n      loss = self.compute_loss(x, y, y_pred, sample_weight)\n    File \"c:\\users\\congcong\\appdata\\local\\programs\\python\\python38\\lib\\site-packages\\keras\\engine\\training.py\", line 918, in compute_loss\n      return self.compiled_loss(\n    File \"c:\\users\\congcong\\appdata\\local\\programs\\python\\python38\\lib\\site-packages\\keras\\engine\\compile_utils.py\", line 201, in __call__\n      loss_value = loss_obj(y_t, y_p, sample_weight=sw)\n    File \"c:\\users\\congcong\\appdata\\local\\programs\\python\\python38\\lib\\site-packages\\keras\\losses.py\", line 141, in __call__\n      losses = call_fn(y_true, y_pred)\n    File \"c:\\users\\congcong\\appdata\\local\\programs\\python\\python38\\lib\\site-packages\\keras\\losses.py\", line 245, in call\n      return ag_fn(y_true, y_pred, **self._fn_kwargs)\n    File \"c:\\users\\congcong\\appdata\\local\\programs\\python\\python38\\lib\\site-packages\\keras\\losses.py\", line 1862, in sparse_categorical_crossentropy\n      return backend.sparse_categorical_crossentropy(\n    File \"c:\\users\\congcong\\appdata\\local\\programs\\python\\python38\\lib\\site-packages\\keras\\backend.py\", line 5202, in sparse_categorical_crossentropy\n      res = tf.nn.sparse_softmax_cross_entropy_with_logits(\nNode: 'sparse_categorical_crossentropy/SparseSoftmaxCrossEntropyWithLogits/SparseSoftmaxCrossEntropyWithLogits'\nReceived a label value of -5 which is outside the valid range of [0, 7).  Label values: -5 -3 4 -3 5 -5 -2 2 0 3 5 4 1 -3 3 -4 -2 -2 3 -3 3 4 0 3 3 2 6 -2 -2 -1 2 3\n\t [[{{node sparse_categorical_crossentropy/SparseSoftmaxCrossEntropyWithLogits/SparseSoftmaxCrossEntropyWithLogits}}]] [Op:__inference_train_function_348894]"
     ]
    }
   ],
   "source": [
    "save_callback = tf.keras.callbacks.ModelCheckpoint(\n",
    "    filepath=\"C:/Users/congcong/Desktop/FYP/model/chess-score-{epoch:04d}-{val_loss:.4f}.h5\",\n",
    "    save_weights_only=False,\n",
    "    save_best_only=True,\n",
    "    verbose=1)\n",
    "\n",
    "# Train the model with the new callback\n",
    "history = model.fit(X_train, y_train,\n",
    "                    validation_data = (X_test, y_test),\n",
    "                    batch_size=32,\n",
    "                    epochs=20,\n",
    "                    callbacks=[save_callback])"
   ]
  },
  {
   "cell_type": "code",
   "execution_count": 272,
   "id": "de923712",
   "metadata": {},
   "outputs": [
    {
     "data": {
      "text/plain": [
       "<matplotlib.legend.Legend at 0x1de3adc9160>"
      ]
     },
     "execution_count": 272,
     "metadata": {},
     "output_type": "execute_result"
    },
    {
     "data": {
      "image/png": "[encoded data removed]",
      "text/plain": [
       "<Figure size 432x288 with 1 Axes>"
      ]
     },
     "metadata": {
      "needs_background": "light"
     },
     "output_type": "display_data"
    }
   ],
   "source": [
    "plt.plot(history.history['accuracy'])\n",
    "plt.plot(history.history['val_accuracy'])\n",
    "plt.title('model accuracy')\n",
    "plt.ylabel('accuracy')\n",
    "plt.xlabel('epoch')\n",
    "plt.legend(['train', 'test'], loc='upper right')"
   ]
  },
  {
   "cell_type": "code",
   "execution_count": 273,
   "id": "8efc8b0b",
   "metadata": {},
   "outputs": [
    {
     "name": "stdout",
     "output_type": "stream",
     "text": [
      "<keras.callbacks.History object at 0x000001DE3ADCDE50>\n"
     ]
    }
   ],
   "source": [
    "print(history)"
   ]
  },
  {
   "cell_type": "code",
   "execution_count": 274,
   "id": "534152c1",
   "metadata": {},
   "outputs": [
    {
     "data": {
      "text/plain": [
       "<matplotlib.legend.Legend at 0x1de3ae71730>"
      ]
     },
     "execution_count": 274,
     "metadata": {},
     "output_type": "execute_result"
    },
    {
     "data": {
      "image/png": "[encoded data removed]",
      "text/plain": [
       "<Figure size 432x288 with 1 Axes>"
      ]
     },
     "metadata": {
      "needs_background": "light"
     },
     "output_type": "display_data"
    }
   ],
   "source": [
    "plt.plot(history.history['loss'])\n",
    "plt.plot(history.history['val_loss'])\n",
    "plt.title('model loss')\n",
    "plt.ylabel('loss')\n",
    "plt.xlabel('epoch')\n",
    "plt.legend(['train', 'test'], loc='upper right')"
   ]
  },
  {
   "cell_type": "code",
   "execution_count": null,
   "id": "707d9af6",
   "metadata": {},
   "outputs": [],
   "source": []
  }
 ],
 "metadata": {
  "kernelspec": {
   "display_name": "Python 3 (ipykernel)",
   "language": "python",
   "name": "python3"
  },
  "language_info": {
   "codemirror_mode": {
    "name": "ipython",
    "version": 3
   },
   "file_extension": ".py",
   "mimetype": "text/x-python",
   "name": "python",
   "nbconvert_exporter": "python",
   "pygments_lexer": "ipython3",
   "version": "3.8.10"
  }
 },
 "nbformat": 4,
 "nbformat_minor": 5
}
